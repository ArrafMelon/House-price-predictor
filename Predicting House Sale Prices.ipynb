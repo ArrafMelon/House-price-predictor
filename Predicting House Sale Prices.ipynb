{
 "cells": [
  {
   "cell_type": "markdown",
   "id": "ed37b70d",
   "metadata": {},
   "source": [
    "# Predicting House Sale prices"
   ]
  },
  {
   "cell_type": "markdown",
   "id": "df50b936",
   "metadata": {},
   "source": [
    "#### Imports"
   ]
  },
  {
   "cell_type": "code",
   "execution_count": 1,
   "id": "647b337f",
   "metadata": {},
   "outputs": [],
   "source": [
    "import pandas as pd\n",
    "import numpy as np\n",
    "import matplotlib.pyplot as plt\n",
    "from sklearn.metrics import mean_squared_error as mse\n",
    "from sklearn.linear_model import LinearRegression"
   ]
  },
  {
   "cell_type": "markdown",
   "id": "53527975",
   "metadata": {},
   "source": [
    "#### Read in dataset"
   ]
  },
  {
   "cell_type": "code",
   "execution_count": 2,
   "id": "e5a49a70",
   "metadata": {},
   "outputs": [],
   "source": [
    "houses = pd.read_csv('AmesHousing.tsv',delimiter='\\t')"
   ]
  },
  {
   "cell_type": "code",
   "execution_count": 3,
   "id": "05f04497",
   "metadata": {},
   "outputs": [
    {
     "data": {
      "text/html": [
       "<div>\n",
       "<style scoped>\n",
       "    .dataframe tbody tr th:only-of-type {\n",
       "        vertical-align: middle;\n",
       "    }\n",
       "\n",
       "    .dataframe tbody tr th {\n",
       "        vertical-align: top;\n",
       "    }\n",
       "\n",
       "    .dataframe thead th {\n",
       "        text-align: right;\n",
       "    }\n",
       "</style>\n",
       "<table border=\"1\" class=\"dataframe\">\n",
       "  <thead>\n",
       "    <tr style=\"text-align: right;\">\n",
       "      <th></th>\n",
       "      <th>Order</th>\n",
       "      <th>PID</th>\n",
       "      <th>MS SubClass</th>\n",
       "      <th>MS Zoning</th>\n",
       "      <th>Lot Frontage</th>\n",
       "      <th>Lot Area</th>\n",
       "      <th>Street</th>\n",
       "      <th>Alley</th>\n",
       "      <th>Lot Shape</th>\n",
       "      <th>Land Contour</th>\n",
       "      <th>...</th>\n",
       "      <th>Pool Area</th>\n",
       "      <th>Pool QC</th>\n",
       "      <th>Fence</th>\n",
       "      <th>Misc Feature</th>\n",
       "      <th>Misc Val</th>\n",
       "      <th>Mo Sold</th>\n",
       "      <th>Yr Sold</th>\n",
       "      <th>Sale Type</th>\n",
       "      <th>Sale Condition</th>\n",
       "      <th>SalePrice</th>\n",
       "    </tr>\n",
       "  </thead>\n",
       "  <tbody>\n",
       "    <tr>\n",
       "      <th>0</th>\n",
       "      <td>1</td>\n",
       "      <td>526301100</td>\n",
       "      <td>20</td>\n",
       "      <td>RL</td>\n",
       "      <td>141.0</td>\n",
       "      <td>31770</td>\n",
       "      <td>Pave</td>\n",
       "      <td>NaN</td>\n",
       "      <td>IR1</td>\n",
       "      <td>Lvl</td>\n",
       "      <td>...</td>\n",
       "      <td>0</td>\n",
       "      <td>NaN</td>\n",
       "      <td>NaN</td>\n",
       "      <td>NaN</td>\n",
       "      <td>0</td>\n",
       "      <td>5</td>\n",
       "      <td>2010</td>\n",
       "      <td>WD</td>\n",
       "      <td>Normal</td>\n",
       "      <td>215000</td>\n",
       "    </tr>\n",
       "    <tr>\n",
       "      <th>1</th>\n",
       "      <td>2</td>\n",
       "      <td>526350040</td>\n",
       "      <td>20</td>\n",
       "      <td>RH</td>\n",
       "      <td>80.0</td>\n",
       "      <td>11622</td>\n",
       "      <td>Pave</td>\n",
       "      <td>NaN</td>\n",
       "      <td>Reg</td>\n",
       "      <td>Lvl</td>\n",
       "      <td>...</td>\n",
       "      <td>0</td>\n",
       "      <td>NaN</td>\n",
       "      <td>MnPrv</td>\n",
       "      <td>NaN</td>\n",
       "      <td>0</td>\n",
       "      <td>6</td>\n",
       "      <td>2010</td>\n",
       "      <td>WD</td>\n",
       "      <td>Normal</td>\n",
       "      <td>105000</td>\n",
       "    </tr>\n",
       "    <tr>\n",
       "      <th>2</th>\n",
       "      <td>3</td>\n",
       "      <td>526351010</td>\n",
       "      <td>20</td>\n",
       "      <td>RL</td>\n",
       "      <td>81.0</td>\n",
       "      <td>14267</td>\n",
       "      <td>Pave</td>\n",
       "      <td>NaN</td>\n",
       "      <td>IR1</td>\n",
       "      <td>Lvl</td>\n",
       "      <td>...</td>\n",
       "      <td>0</td>\n",
       "      <td>NaN</td>\n",
       "      <td>NaN</td>\n",
       "      <td>Gar2</td>\n",
       "      <td>12500</td>\n",
       "      <td>6</td>\n",
       "      <td>2010</td>\n",
       "      <td>WD</td>\n",
       "      <td>Normal</td>\n",
       "      <td>172000</td>\n",
       "    </tr>\n",
       "    <tr>\n",
       "      <th>3</th>\n",
       "      <td>4</td>\n",
       "      <td>526353030</td>\n",
       "      <td>20</td>\n",
       "      <td>RL</td>\n",
       "      <td>93.0</td>\n",
       "      <td>11160</td>\n",
       "      <td>Pave</td>\n",
       "      <td>NaN</td>\n",
       "      <td>Reg</td>\n",
       "      <td>Lvl</td>\n",
       "      <td>...</td>\n",
       "      <td>0</td>\n",
       "      <td>NaN</td>\n",
       "      <td>NaN</td>\n",
       "      <td>NaN</td>\n",
       "      <td>0</td>\n",
       "      <td>4</td>\n",
       "      <td>2010</td>\n",
       "      <td>WD</td>\n",
       "      <td>Normal</td>\n",
       "      <td>244000</td>\n",
       "    </tr>\n",
       "    <tr>\n",
       "      <th>4</th>\n",
       "      <td>5</td>\n",
       "      <td>527105010</td>\n",
       "      <td>60</td>\n",
       "      <td>RL</td>\n",
       "      <td>74.0</td>\n",
       "      <td>13830</td>\n",
       "      <td>Pave</td>\n",
       "      <td>NaN</td>\n",
       "      <td>IR1</td>\n",
       "      <td>Lvl</td>\n",
       "      <td>...</td>\n",
       "      <td>0</td>\n",
       "      <td>NaN</td>\n",
       "      <td>MnPrv</td>\n",
       "      <td>NaN</td>\n",
       "      <td>0</td>\n",
       "      <td>3</td>\n",
       "      <td>2010</td>\n",
       "      <td>WD</td>\n",
       "      <td>Normal</td>\n",
       "      <td>189900</td>\n",
       "    </tr>\n",
       "  </tbody>\n",
       "</table>\n",
       "<p>5 rows × 82 columns</p>\n",
       "</div>"
      ],
      "text/plain": [
       "   Order        PID  MS SubClass MS Zoning  Lot Frontage  Lot Area Street  \\\n",
       "0      1  526301100           20        RL         141.0     31770   Pave   \n",
       "1      2  526350040           20        RH          80.0     11622   Pave   \n",
       "2      3  526351010           20        RL          81.0     14267   Pave   \n",
       "3      4  526353030           20        RL          93.0     11160   Pave   \n",
       "4      5  527105010           60        RL          74.0     13830   Pave   \n",
       "\n",
       "  Alley Lot Shape Land Contour  ... Pool Area Pool QC  Fence Misc Feature  \\\n",
       "0   NaN       IR1          Lvl  ...         0     NaN    NaN          NaN   \n",
       "1   NaN       Reg          Lvl  ...         0     NaN  MnPrv          NaN   \n",
       "2   NaN       IR1          Lvl  ...         0     NaN    NaN         Gar2   \n",
       "3   NaN       Reg          Lvl  ...         0     NaN    NaN          NaN   \n",
       "4   NaN       IR1          Lvl  ...         0     NaN  MnPrv          NaN   \n",
       "\n",
       "  Misc Val Mo Sold Yr Sold Sale Type  Sale Condition  SalePrice  \n",
       "0        0       5    2010       WD           Normal     215000  \n",
       "1        0       6    2010       WD           Normal     105000  \n",
       "2    12500       6    2010       WD           Normal     172000  \n",
       "3        0       4    2010       WD           Normal     244000  \n",
       "4        0       3    2010       WD           Normal     189900  \n",
       "\n",
       "[5 rows x 82 columns]"
      ]
     },
     "execution_count": 3,
     "metadata": {},
     "output_type": "execute_result"
    }
   ],
   "source": [
    "houses.head()"
   ]
  },
  {
   "cell_type": "markdown",
   "id": "3e6a70f2",
   "metadata": {},
   "source": [
    "#### Creating initial functions use for prediction"
   ]
  },
  {
   "cell_type": "code",
   "execution_count": 4,
   "id": "67b3aeb2",
   "metadata": {},
   "outputs": [],
   "source": [
    "def transform_features(df):\n",
    "    return df"
   ]
  },
  {
   "cell_type": "code",
   "execution_count": 5,
   "id": "e27acc8b",
   "metadata": {},
   "outputs": [],
   "source": [
    "def select_features(df):\n",
    "    return df[['Gr Liv Area','SalePrice']]"
   ]
  },
  {
   "cell_type": "code",
   "execution_count": 6,
   "id": "757c782f",
   "metadata": {},
   "outputs": [],
   "source": [
    "## Trains and tests a model\n",
    "def train_and_test(df):\n",
    "    train = df[:1460]\n",
    "    test = df[1460:]\n",
    "    \n",
    "    num_train = train.select_dtypes(include=['int','float'])\n",
    "    num_test = test.select_dtypes(include=['int','float'])\n",
    "    \n",
    "    features = num_train.columns.drop('SalePrice')\n",
    "    \n",
    "    lr = LinearRegression()\n",
    "    lr.fit(train[features],train['SalePrice'])\n",
    "    \n",
    "    prediction = lr.predict(test[features])\n",
    "    \n",
    "    rmse = np.sqrt(mse(test['SalePrice'],prediction))\n",
    "    return rmse"
   ]
  },
  {
   "cell_type": "code",
   "execution_count": 7,
   "id": "c2fdc00b",
   "metadata": {},
   "outputs": [
    {
     "data": {
      "text/plain": [
       "57088.25161263909"
      ]
     },
     "execution_count": 7,
     "metadata": {},
     "output_type": "execute_result"
    }
   ],
   "source": [
    "## Test functions:\n",
    "t_f = transform_features(houses)\n",
    "s_f = select_features(t_f)\n",
    "t_a_t = train_and_test(s_f)\n",
    "\n",
    "t_a_t"
   ]
  },
  {
   "cell_type": "markdown",
   "id": "4205611b",
   "metadata": {},
   "source": [
    "Above, we see our initial RMSE value from our initial functions. This can definitely be improved further."
   ]
  },
  {
   "cell_type": "markdown",
   "id": "1aebf9a9",
   "metadata": {},
   "source": [
    "## Feature Engineering\n",
    "In this section, we will attempt to make sense of the data and altering it such as:\n",
    "- Removing columns with a lot of null values\n",
    "- Remove columns that leak information about the sale (like the year the sale happened)\n",
    "- Transform features to a proper format (numerical, categorical, filling in missing values for numeric columns)\n",
    "- Create new features by combining other features"
   ]
  },
  {
   "cell_type": "code",
   "execution_count": 8,
   "id": "4ed337b3",
   "metadata": {
    "scrolled": true
   },
   "outputs": [
    {
     "data": {
      "text/html": [
       "<div>\n",
       "<style scoped>\n",
       "    .dataframe tbody tr th:only-of-type {\n",
       "        vertical-align: middle;\n",
       "    }\n",
       "\n",
       "    .dataframe tbody tr th {\n",
       "        vertical-align: top;\n",
       "    }\n",
       "\n",
       "    .dataframe thead th {\n",
       "        text-align: right;\n",
       "    }\n",
       "</style>\n",
       "<table border=\"1\" class=\"dataframe\">\n",
       "  <thead>\n",
       "    <tr style=\"text-align: right;\">\n",
       "      <th></th>\n",
       "      <th>Order</th>\n",
       "      <th>PID</th>\n",
       "      <th>MS SubClass</th>\n",
       "      <th>MS Zoning</th>\n",
       "      <th>Lot Frontage</th>\n",
       "      <th>Lot Area</th>\n",
       "      <th>Street</th>\n",
       "      <th>Alley</th>\n",
       "      <th>Lot Shape</th>\n",
       "      <th>Land Contour</th>\n",
       "      <th>...</th>\n",
       "      <th>Pool Area</th>\n",
       "      <th>Pool QC</th>\n",
       "      <th>Fence</th>\n",
       "      <th>Misc Feature</th>\n",
       "      <th>Misc Val</th>\n",
       "      <th>Mo Sold</th>\n",
       "      <th>Yr Sold</th>\n",
       "      <th>Sale Type</th>\n",
       "      <th>Sale Condition</th>\n",
       "      <th>SalePrice</th>\n",
       "    </tr>\n",
       "  </thead>\n",
       "  <tbody>\n",
       "    <tr>\n",
       "      <th>0</th>\n",
       "      <td>1</td>\n",
       "      <td>526301100</td>\n",
       "      <td>20</td>\n",
       "      <td>RL</td>\n",
       "      <td>141.0</td>\n",
       "      <td>31770</td>\n",
       "      <td>Pave</td>\n",
       "      <td>NaN</td>\n",
       "      <td>IR1</td>\n",
       "      <td>Lvl</td>\n",
       "      <td>...</td>\n",
       "      <td>0</td>\n",
       "      <td>NaN</td>\n",
       "      <td>NaN</td>\n",
       "      <td>NaN</td>\n",
       "      <td>0</td>\n",
       "      <td>5</td>\n",
       "      <td>2010</td>\n",
       "      <td>WD</td>\n",
       "      <td>Normal</td>\n",
       "      <td>215000</td>\n",
       "    </tr>\n",
       "    <tr>\n",
       "      <th>1</th>\n",
       "      <td>2</td>\n",
       "      <td>526350040</td>\n",
       "      <td>20</td>\n",
       "      <td>RH</td>\n",
       "      <td>80.0</td>\n",
       "      <td>11622</td>\n",
       "      <td>Pave</td>\n",
       "      <td>NaN</td>\n",
       "      <td>Reg</td>\n",
       "      <td>Lvl</td>\n",
       "      <td>...</td>\n",
       "      <td>0</td>\n",
       "      <td>NaN</td>\n",
       "      <td>MnPrv</td>\n",
       "      <td>NaN</td>\n",
       "      <td>0</td>\n",
       "      <td>6</td>\n",
       "      <td>2010</td>\n",
       "      <td>WD</td>\n",
       "      <td>Normal</td>\n",
       "      <td>105000</td>\n",
       "    </tr>\n",
       "    <tr>\n",
       "      <th>2</th>\n",
       "      <td>3</td>\n",
       "      <td>526351010</td>\n",
       "      <td>20</td>\n",
       "      <td>RL</td>\n",
       "      <td>81.0</td>\n",
       "      <td>14267</td>\n",
       "      <td>Pave</td>\n",
       "      <td>NaN</td>\n",
       "      <td>IR1</td>\n",
       "      <td>Lvl</td>\n",
       "      <td>...</td>\n",
       "      <td>0</td>\n",
       "      <td>NaN</td>\n",
       "      <td>NaN</td>\n",
       "      <td>Gar2</td>\n",
       "      <td>12500</td>\n",
       "      <td>6</td>\n",
       "      <td>2010</td>\n",
       "      <td>WD</td>\n",
       "      <td>Normal</td>\n",
       "      <td>172000</td>\n",
       "    </tr>\n",
       "    <tr>\n",
       "      <th>3</th>\n",
       "      <td>4</td>\n",
       "      <td>526353030</td>\n",
       "      <td>20</td>\n",
       "      <td>RL</td>\n",
       "      <td>93.0</td>\n",
       "      <td>11160</td>\n",
       "      <td>Pave</td>\n",
       "      <td>NaN</td>\n",
       "      <td>Reg</td>\n",
       "      <td>Lvl</td>\n",
       "      <td>...</td>\n",
       "      <td>0</td>\n",
       "      <td>NaN</td>\n",
       "      <td>NaN</td>\n",
       "      <td>NaN</td>\n",
       "      <td>0</td>\n",
       "      <td>4</td>\n",
       "      <td>2010</td>\n",
       "      <td>WD</td>\n",
       "      <td>Normal</td>\n",
       "      <td>244000</td>\n",
       "    </tr>\n",
       "    <tr>\n",
       "      <th>4</th>\n",
       "      <td>5</td>\n",
       "      <td>527105010</td>\n",
       "      <td>60</td>\n",
       "      <td>RL</td>\n",
       "      <td>74.0</td>\n",
       "      <td>13830</td>\n",
       "      <td>Pave</td>\n",
       "      <td>NaN</td>\n",
       "      <td>IR1</td>\n",
       "      <td>Lvl</td>\n",
       "      <td>...</td>\n",
       "      <td>0</td>\n",
       "      <td>NaN</td>\n",
       "      <td>MnPrv</td>\n",
       "      <td>NaN</td>\n",
       "      <td>0</td>\n",
       "      <td>3</td>\n",
       "      <td>2010</td>\n",
       "      <td>WD</td>\n",
       "      <td>Normal</td>\n",
       "      <td>189900</td>\n",
       "    </tr>\n",
       "  </tbody>\n",
       "</table>\n",
       "<p>5 rows × 82 columns</p>\n",
       "</div>"
      ],
      "text/plain": [
       "   Order        PID  MS SubClass MS Zoning  Lot Frontage  Lot Area Street  \\\n",
       "0      1  526301100           20        RL         141.0     31770   Pave   \n",
       "1      2  526350040           20        RH          80.0     11622   Pave   \n",
       "2      3  526351010           20        RL          81.0     14267   Pave   \n",
       "3      4  526353030           20        RL          93.0     11160   Pave   \n",
       "4      5  527105010           60        RL          74.0     13830   Pave   \n",
       "\n",
       "  Alley Lot Shape Land Contour  ... Pool Area Pool QC  Fence Misc Feature  \\\n",
       "0   NaN       IR1          Lvl  ...         0     NaN    NaN          NaN   \n",
       "1   NaN       Reg          Lvl  ...         0     NaN  MnPrv          NaN   \n",
       "2   NaN       IR1          Lvl  ...         0     NaN    NaN         Gar2   \n",
       "3   NaN       Reg          Lvl  ...         0     NaN    NaN          NaN   \n",
       "4   NaN       IR1          Lvl  ...         0     NaN  MnPrv          NaN   \n",
       "\n",
       "  Misc Val Mo Sold Yr Sold Sale Type  Sale Condition  SalePrice  \n",
       "0        0       5    2010       WD           Normal     215000  \n",
       "1        0       6    2010       WD           Normal     105000  \n",
       "2    12500       6    2010       WD           Normal     172000  \n",
       "3        0       4    2010       WD           Normal     244000  \n",
       "4        0       3    2010       WD           Normal     189900  \n",
       "\n",
       "[5 rows x 82 columns]"
      ]
     },
     "execution_count": 8,
     "metadata": {},
     "output_type": "execute_result"
    }
   ],
   "source": [
    "house_copy = houses.copy()\n",
    "\n",
    "house_copy.head()"
   ]
  },
  {
   "cell_type": "code",
   "execution_count": 9,
   "id": "f5097d2e",
   "metadata": {},
   "outputs": [
    {
     "data": {
      "text/plain": [
       "(2930, 82)"
      ]
     },
     "execution_count": 9,
     "metadata": {},
     "output_type": "execute_result"
    }
   ],
   "source": [
    "house_copy.shape"
   ]
  },
  {
   "cell_type": "code",
   "execution_count": 10,
   "id": "0bf83f32",
   "metadata": {
    "scrolled": true
   },
   "outputs": [
    {
     "data": {
      "text/plain": [
       "Pool QC         2917\n",
       "Misc Feature    2824\n",
       "Alley           2732\n",
       "Fence           2358\n",
       "Fireplace Qu    1422\n",
       "                ... \n",
       "PID                0\n",
       "Central Air        0\n",
       "1st Flr SF         0\n",
       "2nd Flr SF         0\n",
       "SalePrice          0\n",
       "Length: 82, dtype: int64"
      ]
     },
     "execution_count": 10,
     "metadata": {},
     "output_type": "execute_result"
    }
   ],
   "source": [
    "## Check for null values in each column\n",
    "house_copy.isnull().sum().sort_values(ascending=False)"
   ]
  },
  {
   "cell_type": "markdown",
   "id": "c4ae771d",
   "metadata": {},
   "source": [
    "We can see features such as Pool QC, Misc Feature, Alley, Fence etc have a lot of missing values which would not be good for our prediction. Let's get rid of columns with more than 5% missing values."
   ]
  },
  {
   "cell_type": "code",
   "execution_count": 11,
   "id": "749e5ace",
   "metadata": {},
   "outputs": [
    {
     "name": "stderr",
     "output_type": "stream",
     "text": [
      "C:\\Users\\araf7\\AppData\\Local\\Temp/ipykernel_9676/2153945142.py:3: FutureWarning: Index.__and__ operating as a set operation is deprecated, in the future this will be a logical operation matching Series.__and__.  Use index.intersection(other) instead\n",
      "  house_copy_no_null_num = (house_copy[houses_copy_null_cnt[houses_copy_null_cnt>0].index &\n"
     ]
    }
   ],
   "source": [
    "## Have only columns greater than 0 NaN and less than 147 (5%) NaN, and also only include numeric values\n",
    "houses_copy_null_cnt = house_copy.isnull().sum()\n",
    "house_copy_no_null_num = (house_copy[houses_copy_null_cnt[houses_copy_null_cnt>0].index & \n",
    "                                houses_copy_null_cnt[houses_copy_null_cnt<147].index]).select_dtypes(include=['int', 'float'])"
   ]
  },
  {
   "cell_type": "code",
   "execution_count": 12,
   "id": "ae6b1c9f",
   "metadata": {
    "scrolled": true
   },
   "outputs": [
    {
     "data": {
      "text/plain": [
       "Mas Vnr Area      23\n",
       "Bsmt Full Bath     2\n",
       "Bsmt Half Bath     2\n",
       "BsmtFin SF 1       1\n",
       "BsmtFin SF 2       1\n",
       "Bsmt Unf SF        1\n",
       "Total Bsmt SF      1\n",
       "Garage Cars        1\n",
       "Garage Area        1\n",
       "dtype: int64"
      ]
     },
     "execution_count": 12,
     "metadata": {},
     "output_type": "execute_result"
    }
   ],
   "source": [
    "## Check for null values in each column again\n",
    "house_copy_no_null_num.isnull().sum().sort_values(ascending=False)"
   ]
  },
  {
   "cell_type": "code",
   "execution_count": 13,
   "id": "572a7803",
   "metadata": {},
   "outputs": [
    {
     "data": {
      "text/plain": [
       "0.0       1748\n",
       "120.0       15\n",
       "176.0       13\n",
       "200.0       13\n",
       "216.0       12\n",
       "          ... \n",
       "714.0        1\n",
       "647.0        1\n",
       "1290.0       1\n",
       "495.0        1\n",
       "443.0        1\n",
       "Name: Mas Vnr Area, Length: 445, dtype: int64"
      ]
     },
     "execution_count": 13,
     "metadata": {},
     "output_type": "execute_result"
    }
   ],
   "source": [
    "house_copy_no_null_num['Mas Vnr Area'].value_counts()"
   ]
  },
  {
   "cell_type": "markdown",
   "id": "7dbe08de",
   "metadata": {},
   "source": [
    "As we can see, 9 out of the 82 columns remain meaning that 73 columns from the dataset had more than 25% missing values.\n",
    "\n",
    "We should now fill the missing values of these columns with the most occuring value (mode of the column)."
   ]
  },
  {
   "cell_type": "code",
   "execution_count": 14,
   "id": "7302c296",
   "metadata": {},
   "outputs": [],
   "source": [
    "house_copy_no_null_num = house_copy_no_null_num.fillna(house_copy_no_null_num.mode().iloc[0])"
   ]
  },
  {
   "cell_type": "code",
   "execution_count": 15,
   "id": "410637a9",
   "metadata": {},
   "outputs": [
    {
     "data": {
      "text/plain": [
       "0.0       1771\n",
       "120.0       15\n",
       "176.0       13\n",
       "200.0       13\n",
       "216.0       12\n",
       "          ... \n",
       "714.0        1\n",
       "647.0        1\n",
       "1290.0       1\n",
       "495.0        1\n",
       "443.0        1\n",
       "Name: Mas Vnr Area, Length: 445, dtype: int64"
      ]
     },
     "execution_count": 15,
     "metadata": {},
     "output_type": "execute_result"
    }
   ],
   "source": [
    "house_copy_no_null_num['Mas Vnr Area'].value_counts()"
   ]
  },
  {
   "cell_type": "code",
   "execution_count": 16,
   "id": "b885759b",
   "metadata": {},
   "outputs": [
    {
     "data": {
      "text/plain": [
       "Mas Vnr Area      0\n",
       "BsmtFin SF 1      0\n",
       "BsmtFin SF 2      0\n",
       "Bsmt Unf SF       0\n",
       "Total Bsmt SF     0\n",
       "Bsmt Full Bath    0\n",
       "Bsmt Half Bath    0\n",
       "Garage Cars       0\n",
       "Garage Area       0\n",
       "dtype: int64"
      ]
     },
     "execution_count": 16,
     "metadata": {},
     "output_type": "execute_result"
    }
   ],
   "source": [
    "house_copy_no_null_num.isnull().sum().sort_values(ascending=False)"
   ]
  },
  {
   "cell_type": "markdown",
   "id": "e87726b6",
   "metadata": {},
   "source": [
    "As we can see, all the missing values have been replaced by the highest occuring value in the column.\n",
    "\n",
    "We will add our saleprice column back in and add a new column, years_until_remod which will tell us how long it took for a house to be remodeled since it was built. Another column we will add is the years_sold which tells us the difference between when a house was sold to the date of when it was built."
   ]
  },
  {
   "cell_type": "code",
   "execution_count": 17,
   "id": "40fbf545",
   "metadata": {},
   "outputs": [],
   "source": [
    "## add saleprice, year built, and year remod/add back into dataframe\n",
    "house_copy_no_null_num[\"Yrs until remod\"] = house_copy['Year Remod/Add'] - house_copy['Year Built'] \n",
    "house_copy_no_null_num[\"Yrs until sold\"] = house_copy['Yr Sold'] - house_copy['Year Built'] \n",
    "house_copy_no_null_num[\"SalePrice\"] = house_copy['SalePrice']"
   ]
  },
  {
   "cell_type": "code",
   "execution_count": 18,
   "id": "f5d05a0d",
   "metadata": {
    "scrolled": false
   },
   "outputs": [
    {
     "data": {
      "text/html": [
       "<div>\n",
       "<style scoped>\n",
       "    .dataframe tbody tr th:only-of-type {\n",
       "        vertical-align: middle;\n",
       "    }\n",
       "\n",
       "    .dataframe tbody tr th {\n",
       "        vertical-align: top;\n",
       "    }\n",
       "\n",
       "    .dataframe thead th {\n",
       "        text-align: right;\n",
       "    }\n",
       "</style>\n",
       "<table border=\"1\" class=\"dataframe\">\n",
       "  <thead>\n",
       "    <tr style=\"text-align: right;\">\n",
       "      <th></th>\n",
       "      <th>Mas Vnr Area</th>\n",
       "      <th>BsmtFin SF 1</th>\n",
       "      <th>BsmtFin SF 2</th>\n",
       "      <th>Bsmt Unf SF</th>\n",
       "      <th>Total Bsmt SF</th>\n",
       "      <th>Bsmt Full Bath</th>\n",
       "      <th>Bsmt Half Bath</th>\n",
       "      <th>Garage Cars</th>\n",
       "      <th>Garage Area</th>\n",
       "      <th>Yrs until remod</th>\n",
       "      <th>Yrs until sold</th>\n",
       "      <th>SalePrice</th>\n",
       "    </tr>\n",
       "  </thead>\n",
       "  <tbody>\n",
       "    <tr>\n",
       "      <th>0</th>\n",
       "      <td>112.0</td>\n",
       "      <td>639.0</td>\n",
       "      <td>0.0</td>\n",
       "      <td>441.0</td>\n",
       "      <td>1080.0</td>\n",
       "      <td>1.0</td>\n",
       "      <td>0.0</td>\n",
       "      <td>2.0</td>\n",
       "      <td>528.0</td>\n",
       "      <td>0</td>\n",
       "      <td>50</td>\n",
       "      <td>215000</td>\n",
       "    </tr>\n",
       "    <tr>\n",
       "      <th>1</th>\n",
       "      <td>0.0</td>\n",
       "      <td>468.0</td>\n",
       "      <td>144.0</td>\n",
       "      <td>270.0</td>\n",
       "      <td>882.0</td>\n",
       "      <td>0.0</td>\n",
       "      <td>0.0</td>\n",
       "      <td>1.0</td>\n",
       "      <td>730.0</td>\n",
       "      <td>0</td>\n",
       "      <td>49</td>\n",
       "      <td>105000</td>\n",
       "    </tr>\n",
       "    <tr>\n",
       "      <th>2</th>\n",
       "      <td>108.0</td>\n",
       "      <td>923.0</td>\n",
       "      <td>0.0</td>\n",
       "      <td>406.0</td>\n",
       "      <td>1329.0</td>\n",
       "      <td>0.0</td>\n",
       "      <td>0.0</td>\n",
       "      <td>1.0</td>\n",
       "      <td>312.0</td>\n",
       "      <td>0</td>\n",
       "      <td>52</td>\n",
       "      <td>172000</td>\n",
       "    </tr>\n",
       "    <tr>\n",
       "      <th>3</th>\n",
       "      <td>0.0</td>\n",
       "      <td>1065.0</td>\n",
       "      <td>0.0</td>\n",
       "      <td>1045.0</td>\n",
       "      <td>2110.0</td>\n",
       "      <td>1.0</td>\n",
       "      <td>0.0</td>\n",
       "      <td>2.0</td>\n",
       "      <td>522.0</td>\n",
       "      <td>0</td>\n",
       "      <td>42</td>\n",
       "      <td>244000</td>\n",
       "    </tr>\n",
       "    <tr>\n",
       "      <th>4</th>\n",
       "      <td>0.0</td>\n",
       "      <td>791.0</td>\n",
       "      <td>0.0</td>\n",
       "      <td>137.0</td>\n",
       "      <td>928.0</td>\n",
       "      <td>0.0</td>\n",
       "      <td>0.0</td>\n",
       "      <td>2.0</td>\n",
       "      <td>482.0</td>\n",
       "      <td>1</td>\n",
       "      <td>13</td>\n",
       "      <td>189900</td>\n",
       "    </tr>\n",
       "  </tbody>\n",
       "</table>\n",
       "</div>"
      ],
      "text/plain": [
       "   Mas Vnr Area  BsmtFin SF 1  BsmtFin SF 2  Bsmt Unf SF  Total Bsmt SF  \\\n",
       "0         112.0         639.0           0.0        441.0         1080.0   \n",
       "1           0.0         468.0         144.0        270.0          882.0   \n",
       "2         108.0         923.0           0.0        406.0         1329.0   \n",
       "3           0.0        1065.0           0.0       1045.0         2110.0   \n",
       "4           0.0         791.0           0.0        137.0          928.0   \n",
       "\n",
       "   Bsmt Full Bath  Bsmt Half Bath  Garage Cars  Garage Area  Yrs until remod  \\\n",
       "0             1.0             0.0          2.0        528.0                0   \n",
       "1             0.0             0.0          1.0        730.0                0   \n",
       "2             0.0             0.0          1.0        312.0                0   \n",
       "3             1.0             0.0          2.0        522.0                0   \n",
       "4             0.0             0.0          2.0        482.0                1   \n",
       "\n",
       "   Yrs until sold  SalePrice  \n",
       "0              50     215000  \n",
       "1              49     105000  \n",
       "2              52     172000  \n",
       "3              42     244000  \n",
       "4              13     189900  "
      ]
     },
     "execution_count": 18,
     "metadata": {},
     "output_type": "execute_result"
    }
   ],
   "source": [
    "house_copy_no_null_num.head()"
   ]
  },
  {
   "cell_type": "markdown",
   "id": "9344fd0a",
   "metadata": {},
   "source": [
    "This data here is finally prepared for testing and training, we have dropped null values, replaced null values with the mode, dropped any irrelevant columns, and also created new columns which could be useful for our training."
   ]
  },
  {
   "cell_type": "code",
   "execution_count": 19,
   "id": "dc2c9e88",
   "metadata": {},
   "outputs": [],
   "source": [
    "## Modified transform features function:\n",
    "def transform_features(df):\n",
    "    df_copy = df.copy()\n",
    "    df_copy_null_cnt = df_copy.isnull().sum()\n",
    "    df_copy_no_null_num = (df_copy[df_copy_null_cnt[df_copy_null_cnt>0].index & \n",
    "                                df_copy_null_cnt[df_copy_null_cnt<147].index]).select_dtypes(include=['int', 'float'])\n",
    "    df_copy_no_null_num = df_copy_no_null_num.fillna(df_copy_no_null_num.mode().iloc[0])\n",
    "    df_copy_no_null_num[\"Yrs until remod\"] = df_copy['Year Remod/Add'] - df_copy['Year Built'] \n",
    "    df_copy_no_null_num[\"Yrs until sold\"] = df_copy['Yr Sold'] - df_copy['Year Built'] \n",
    "    df_copy_no_null_num[\"SalePrice\"] = df_copy['SalePrice']\n",
    "    \n",
    "    return df_copy_no_null_num"
   ]
  },
  {
   "cell_type": "code",
   "execution_count": 20,
   "id": "4abd3db5",
   "metadata": {},
   "outputs": [],
   "source": [
    "def select_features(df):\n",
    "    return df"
   ]
  },
  {
   "cell_type": "code",
   "execution_count": 21,
   "id": "288445fb",
   "metadata": {},
   "outputs": [],
   "source": [
    "def train_and_test(df):\n",
    "    train = df[:1460]\n",
    "    test = df[1460:]\n",
    "    \n",
    "    num_train = train.select_dtypes(include=['int','float'])\n",
    "    num_test = test.select_dtypes(include=['int','float'])\n",
    "    \n",
    "    features = num_train.columns.drop('SalePrice')\n",
    "    \n",
    "    lr = LinearRegression()\n",
    "    lr.fit(train[features],train['SalePrice'])\n",
    "    \n",
    "    prediction = lr.predict(test[features])\n",
    "    \n",
    "    rmse = np.sqrt(mse(test['SalePrice'],prediction))\n",
    "    return rmse"
   ]
  },
  {
   "cell_type": "code",
   "execution_count": 22,
   "id": "fa9f012b",
   "metadata": {},
   "outputs": [
    {
     "name": "stderr",
     "output_type": "stream",
     "text": [
      "C:\\Users\\araf7\\AppData\\Local\\Temp/ipykernel_9676/3874509505.py:5: FutureWarning: Index.__and__ operating as a set operation is deprecated, in the future this will be a logical operation matching Series.__and__.  Use index.intersection(other) instead\n",
      "  df_copy_no_null_num = (df_copy[df_copy_null_cnt[df_copy_null_cnt>0].index &\n"
     ]
    },
    {
     "data": {
      "text/plain": [
       "51977.69910646284"
      ]
     },
     "execution_count": 22,
     "metadata": {},
     "output_type": "execute_result"
    }
   ],
   "source": [
    "tf = transform_features(houses)\n",
    "\n",
    "sf = select_features(tf)\n",
    "\n",
    "tat = train_and_test(sf)\n",
    "\n",
    "tat"
   ]
  },
  {
   "cell_type": "markdown",
   "id": "be8f2df0",
   "metadata": {},
   "source": [
    "As we can see, our new model using more relevant features has caused our RMSE to drastically decrease from 57,000 to 52,000. We can take this further, by using features which have a significant correlation with SalePrice. Let's do that next."
   ]
  },
  {
   "cell_type": "markdown",
   "id": "bf5de7c3",
   "metadata": {},
   "source": [
    "## Feature Selection"
   ]
  },
  {
   "cell_type": "code",
   "execution_count": 23,
   "id": "58f1fc14",
   "metadata": {},
   "outputs": [
    {
     "data": {
      "image/png": "[encoded data removed]",
      "text/plain": [
       "<Figure size 720x720 with 2 Axes>"
      ]
     },
     "metadata": {
      "needs_background": "light"
     },
     "output_type": "display_data"
    }
   ],
   "source": [
    "## Correlation heatmap of sf\n",
    "import seaborn as sns\n",
    "plt.figure(figsize=(10,10))\n",
    "sns.heatmap(sf.corr(), annot = True, fmt = \".2f\")\n",
    "plt.show()"
   ]
  },
  {
   "cell_type": "markdown",
   "id": "0b95b2a7",
   "metadata": {},
   "source": [
    "If we look at SalePrice (bottom row), we can see that many features have relatively strong correlation with SalePrice, such as Mas Vnr Area, Garage Cars, Garage Area etc. We will now only use columns which have an absolute correlation value greater than 0.15."
   ]
  },
  {
   "cell_type": "code",
   "execution_count": 24,
   "id": "0f5b0a7c",
   "metadata": {},
   "outputs": [],
   "source": [
    "saleprice_corr = abs(sf.corr()['SalePrice'])"
   ]
  },
  {
   "cell_type": "code",
   "execution_count": 25,
   "id": "ae5d4b38",
   "metadata": {},
   "outputs": [],
   "source": [
    "sf = sf.drop(saleprice_corr[saleprice_corr < 0.15].index, axis=1)"
   ]
  },
  {
   "cell_type": "markdown",
   "id": "33bf8d94",
   "metadata": {},
   "source": [
    "Great, we only kept columns which have high correlation to saleprice. Let's alter the select_features function to account for high correlation columns to SalePrice."
   ]
  },
  {
   "cell_type": "code",
   "execution_count": 26,
   "id": "09d4b790",
   "metadata": {},
   "outputs": [],
   "source": [
    "def transform_features(df):\n",
    "    df_copy = df.copy()\n",
    "    df_copy_null_cnt = df_copy.isnull().sum()\n",
    "    df_copy_no_null_num = (df_copy[df_copy_null_cnt[df_copy_null_cnt>0].index & \n",
    "                                df_copy_null_cnt[df_copy_null_cnt<147].index]).select_dtypes(include=['int', 'float'])\n",
    "    df_copy_no_null_num = df_copy_no_null_num.fillna(df_copy_no_null_num.mode().iloc[0])\n",
    "    df_copy_no_null_num[\"Yrs until remod\"] = df_copy['Year Remod/Add'] - df_copy['Year Built'] \n",
    "    df_copy_no_null_num[\"Yrs until sold\"] = df_copy['Yr Sold'] - df_copy['Year Built'] \n",
    "    df_copy_no_null_num[\"SalePrice\"] = df_copy['SalePrice']\n",
    "    \n",
    "    return df_copy_no_null_num"
   ]
  },
  {
   "cell_type": "code",
   "execution_count": 27,
   "id": "5b40a8d6",
   "metadata": {},
   "outputs": [],
   "source": [
    "def select_features(df):\n",
    "    saleprice_corr = abs(df.corr()['SalePrice'])\n",
    "    df = df.drop(saleprice_corr[saleprice_corr < 0.15].index, axis=1)\n",
    "    return df"
   ]
  },
  {
   "cell_type": "code",
   "execution_count": 28,
   "id": "0213763c",
   "metadata": {},
   "outputs": [],
   "source": [
    "def train_and_test(df):\n",
    "    train = df[:1460]\n",
    "    test = df[1460:]\n",
    "    \n",
    "    num_train = train.select_dtypes(include=['int','float'])\n",
    "    num_test = test.select_dtypes(include=['int','float'])\n",
    "    \n",
    "    features = num_train.columns.drop('SalePrice')\n",
    "    \n",
    "    lr = LinearRegression()\n",
    "    lr.fit(train[features],train['SalePrice'])\n",
    "    \n",
    "    prediction = lr.predict(test[features])\n",
    "    \n",
    "    rmse = np.sqrt(mse(test['SalePrice'],prediction))\n",
    "    return rmse"
   ]
  },
  {
   "cell_type": "code",
   "execution_count": 29,
   "id": "13febd47",
   "metadata": {},
   "outputs": [
    {
     "name": "stderr",
     "output_type": "stream",
     "text": [
      "C:\\Users\\araf7\\AppData\\Local\\Temp/ipykernel_9676/3965672568.py:4: FutureWarning: Index.__and__ operating as a set operation is deprecated, in the future this will be a logical operation matching Series.__and__.  Use index.intersection(other) instead\n",
      "  df_copy_no_null_num = (df_copy[df_copy_null_cnt[df_copy_null_cnt>0].index &\n"
     ]
    },
    {
     "data": {
      "text/plain": [
       "51813.303381480444"
      ]
     },
     "execution_count": 29,
     "metadata": {},
     "output_type": "execute_result"
    }
   ],
   "source": [
    "## Test again to see change in rmse\n",
    "Tf = transform_features(houses)\n",
    "\n",
    "Sf = select_features(Tf)\n",
    "\n",
    "Tat = train_and_test(Sf)\n",
    "\n",
    "Tat"
   ]
  },
  {
   "cell_type": "markdown",
   "id": "a38b6064",
   "metadata": {},
   "source": [
    "Keeping our correlation cutoff at 0.15 may seem low, but through testing, it seems that the rmse increase if we increase the threshold so it is best if we keep it low. The reason the rmse increases may be due to the lack of features used to train our model."
   ]
  },
  {
   "cell_type": "markdown",
   "id": "9a0191cf",
   "metadata": {},
   "source": [
    "## Train and Test\n",
    "Let's now add a parameter k,\n",
    "- When k=0 we perform holdout validation(what we already have been doing)\n",
    "- When k=1 we perform simple cross validation\n",
    "- When k>1 we perform k-fold cross validation using k folds"
   ]
  },
  {
   "cell_type": "code",
   "execution_count": 30,
   "id": "17abcb6a",
   "metadata": {},
   "outputs": [],
   "source": [
    "from sklearn.model_selection import KFold\n",
    "\n",
    "def train_and_test(df,k):\n",
    "    lr = LinearRegression()\n",
    "    num_df = df.select_dtypes(include=['integer', 'float'])\n",
    "    features = num_df.columns.drop(\"SalePrice\")\n",
    "    \n",
    "    if k==0:\n",
    "        train = num_df[:1460]\n",
    "        test = num_df[1460:]\n",
    "    \n",
    "        features = train.columns.drop('SalePrice')\n",
    "    \n",
    "        lr.fit(train[features],train['SalePrice'])\n",
    "    \n",
    "        prediction = lr.predict(test[features])\n",
    "    \n",
    "        rmse = np.sqrt(mse(test['SalePrice'],prediction))\n",
    "        return rmse\n",
    "    \n",
    "    if k == 1:\n",
    "        shuffled_df = df.sample(frac=1, )\n",
    "        train = df[:1460]\n",
    "        test = df[1460:]\n",
    "        \n",
    "        lr.fit(train[features], train[\"SalePrice\"])\n",
    "        predictions_one = lr.predict(test[features])        \n",
    "        \n",
    "        rmse_one = np.sqrt(mse(test[\"SalePrice\"], predictions_one))\n",
    "        \n",
    "        lr.fit(test[features], test[\"SalePrice\"])\n",
    "        predictions_two = lr.predict(train[features])        \n",
    "       \n",
    "        rmse_two = np.sqrt(mse(train[\"SalePrice\"], predictions_two))\n",
    "        \n",
    "        avg_rmse = np.mean([rmse_one, rmse_two])\n",
    "\n",
    "        return avg_rmse\n",
    "    \n",
    "    else:\n",
    "        kf = KFold(n_splits=k, shuffle=True)\n",
    "        rmse_val = []\n",
    "        for train_index, test_index, in kf.split(df):\n",
    "            train = df.iloc[train_index]\n",
    "            test = df.iloc[test_index]\n",
    "            lr.fit(train[features], train[\"SalePrice\"])\n",
    "            predictions = lr.predict(test[features])\n",
    "            rmse = np.sqrt(mse(test[\"SalePrice\"], predictions))\n",
    "            rmse_val.append(rmse)\n",
    "        avg_rmse = np.mean(rmse_val)\n",
    "        return avg_rmse\n"
   ]
  },
  {
   "cell_type": "code",
   "execution_count": 31,
   "id": "a8fb4806",
   "metadata": {},
   "outputs": [
    {
     "name": "stderr",
     "output_type": "stream",
     "text": [
      "C:\\Users\\araf7\\AppData\\Local\\Temp/ipykernel_9676/3965672568.py:4: FutureWarning: Index.__and__ operating as a set operation is deprecated, in the future this will be a logical operation matching Series.__and__.  Use index.intersection(other) instead\n",
      "  df_copy_no_null_num = (df_copy[df_copy_null_cnt[df_copy_null_cnt>0].index &\n"
     ]
    },
    {
     "data": {
      "text/plain": [
       "46635.0229884046"
      ]
     },
     "execution_count": 31,
     "metadata": {},
     "output_type": "execute_result"
    }
   ],
   "source": [
    "## Test\n",
    "TF = transform_features(houses)\n",
    "\n",
    "SF = select_features(TF)\n",
    "\n",
    "TAT = train_and_test(SF,5)\n",
    "\n",
    "TAT"
   ]
  },
  {
   "cell_type": "code",
   "execution_count": 33,
   "id": "eeeb547e",
   "metadata": {},
   "outputs": [
    {
     "data": {
      "image/png": "[encoded data removed]",
      "text/plain": [
       "<Figure size 432x288 with 1 Axes>"
      ]
     },
     "metadata": {
      "needs_background": "light"
     },
     "output_type": "display_data"
    }
   ],
   "source": [
    "k_list = []\n",
    "for k in range(0, 50):\n",
    "    k_list.append(train_and_test(SF, k))\n",
    "\n",
    "plt.scatter(range(0, 50), k_list)\n",
    "plt.xlabel('k')\n",
    "plt.ylabel('RMSE')\n",
    "plt.show()"
   ]
  },
  {
   "cell_type": "markdown",
   "id": "92318cdf",
   "metadata": {},
   "source": [
    "In conclusion, we can see the trend that as we increase K amount of folds, the rmse tends to decrease (for at least the first 50 values of k)."
   ]
  }
 ],
 "metadata": {
  "kernelspec": {
   "display_name": "Python 3 (ipykernel)",
   "language": "python",
   "name": "python3"
  },
  "language_info": {
   "codemirror_mode": {
    "name": "ipython",
    "version": 3
   },
   "file_extension": ".py",
   "mimetype": "text/x-python",
   "name": "python",
   "nbconvert_exporter": "python",
   "pygments_lexer": "ipython3",
   "version": "3.9.7"
  }
 },
 "nbformat": 4,
 "nbformat_minor": 5
}
